{
 "cells": [
  {
   "cell_type": "code",
   "execution_count": 2,
   "metadata": {},
   "outputs": [
    {
     "name": "stdout",
     "output_type": "stream",
     "text": [
      "Saved COIN-15second-2024-08.csv Done\n"
     ]
    }
   ],
   "source": [
    "from polygon import RESTClient\n",
    "import pandas as pd\n",
    "from datetime import datetime, timedelta\n",
    "\n",
    "stockName = 'COIN'\n",
    "timeFrame = 4\n",
    "unit = 'hour'\n",
    "fromDate = '2019-01-01'\n",
    "toDate = '2024-09-02'\n",
    "\n",
    "def polygon_request(ticker, multiplier, timespan, start, end):\n",
    "    client = RESTClient(api_key=\"7PZTsP8NHCZy0cEsWRlgFaSa2Q8zm8Zb\")\n",
    "    aggs = []\n",
    "    for a in client.list_aggs(ticker=ticker, multiplier=multiplier, timespan=timespan, from_=start, to=end, limit=50000):\n",
    "        aggs.append(a)\n",
    "    df = pd.DataFrame(aggs)\n",
    "    df.index = pd.DatetimeIndex(pd.to_datetime(df.timestamp, unit='ms', utc=True)).tz_convert('US/Eastern')\n",
    "    df.drop(['timestamp', 'transactions', 'otc'], axis=1, inplace=True)\n",
    "    return df\n",
    "\n",
    "def split_by_month(df, ticker, multiplier, unit):\n",
    "    df =df.sort_index()\n",
    "    \n",
    "    for (year, month), group in df.groupby([df.index.year, df.index.month]):\n",
    "        dfName = f\"{ticker}-{multiplier}{unit}-{year}-{str(month).zfill(2)}.csv\"\n",
    "        \n",
    "        group.to_csv(dfName)\n",
    "        print(f\"Saved {dfName} Done\")\n",
    "\n",
    "df = polygon_request(stockName, timeFrame, unit, fromDate, toDate)\n",
    "\n",
    "df.to_csv(f\"{stockName}-{timeFrame}{unit}-{fromDate}-to-{toDate}.csv\")\n",
    "\n",
    "# startDate = datetime.strptime(fromDate, \"%Y-%m-%d\")\n",
    "# endDate = datetime.strptime(toDate, \"%Y-%m-%d\")\n",
    "\n",
    "# currentStart = startDate\n",
    "# while currentStart <= endDate:\n",
    "#     currentEnd = (currentStart+timedelta(days=31)).replace(day=1)-timedelta(seconds = 1)\n",
    "#     currentEnd = min(currentEnd, endDate)\n",
    "    \n",
    "#     df = polygon_request(stockName, timeFrame, unit, currentStart.strftime(\"%Y-%m-%d\"), currentEnd.strftime(\"%Y-%m-%d\"))\n",
    "#     split_by_month(df, stockName, timeFrame,unit)\n",
    "    \n",
    "#     currentStart = (currentStart+timedelta(days=31)).replace(day=1)\n"
   ]
  },
  {
   "cell_type": "code",
   "execution_count": null,
   "metadata": {},
   "outputs": [],
   "source": []
  }
 ],
 "metadata": {
  "kernelspec": {
   "display_name": "tgEnv",
   "language": "python",
   "name": "python3"
  },
  "language_info": {
   "codemirror_mode": {
    "name": "ipython",
    "version": 3
   },
   "file_extension": ".py",
   "mimetype": "text/x-python",
   "name": "python",
   "nbconvert_exporter": "python",
   "pygments_lexer": "ipython3",
   "version": "3.11.9"
  }
 },
 "nbformat": 4,
 "nbformat_minor": 2
}
